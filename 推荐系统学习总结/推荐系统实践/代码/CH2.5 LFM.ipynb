{
 "cells": [
  {
   "cell_type": "code",
   "execution_count": 2,
   "metadata": {},
   "outputs": [],
   "source": [
    "# 导入包\n",
    "import random\n",
    "import math\n",
    "import time\n",
    "import numpy as np\n",
    "import pandas as pd\n",
    "import warnings\n",
    "import os\n",
    "import sys\n",
    "import operator\n",
    "warnings.filterwarnings('ignore')\n",
    "np.set_printoptions(suppress=True)"
   ]
  },
  {
   "cell_type": "code",
   "execution_count": 3,
   "metadata": {},
   "outputs": [],
   "source": [
    "def read_data(path):\n",
    "    data = []\n",
    "    with open(path,\"r\") as f:\n",
    "        for line in f.readlines():\n",
    "            user,movie,rating,_ = line.split(\"::\")\n",
    "            data.append([user, movie])\n",
    "        return data"
   ]
  },
  {
   "cell_type": "code",
   "execution_count": 4,
   "metadata": {},
   "outputs": [],
   "source": [
    "def split_data(data, M=5, k=1):\n",
    "    train = []\n",
    "    test = []\n",
    "    random.seed(42)\n",
    "    for line in data:\n",
    "        if random.randint(0, M) == k:\n",
    "            test.append(line)\n",
    "        else:\n",
    "            train.append(line)\n",
    "    return train, test"
   ]
  },
  {
   "cell_type": "code",
   "execution_count": 5,
   "metadata": {},
   "outputs": [],
   "source": [
    "# convert data to dict format\n",
    "def transform_data(data):   \n",
    "    data_dict = {}\n",
    "    for user, movie in data:\n",
    "        if user not in data_dict:\n",
    "            data_dict[user] = set()\n",
    "        data_dict[user].add(movie)\n",
    "        \n",
    "    data_dict = {user : list(data_dict[user]) for user in data_dict}   \n",
    "    return data_dict        "
   ]
  },
  {
   "cell_type": "code",
   "execution_count": 6,
   "metadata": {},
   "outputs": [],
   "source": [
    "def preprocess_data(path):\n",
    "    raw_data = read_data(filePath)\n",
    "    train_set, test_set = split_data(raw_data)\n",
    "    train = transform_data(train_set)\n",
    "    test = transform_data(test_set)\n",
    "    return train, test"
   ]
  },
  {
   "cell_type": "code",
   "execution_count": 7,
   "metadata": {},
   "outputs": [],
   "source": [
    "def GetRecommendation(result, user):\n",
    "    rank = result[user]\n",
    "    return rank\n",
    "    \n",
    "def Recall(train, test, result):\n",
    "    hit = 0\n",
    "    all = 0\n",
    "    for user in train.keys():\n",
    "        tu = test.get(user)\n",
    "        if tu is None:\n",
    "            continue\n",
    "        rank = GetRecommendation(result, user)\n",
    "        for item in rank:\n",
    "            if item in tu:\n",
    "                hit += 1\n",
    "        all += len(tu)\n",
    "    return hit / (all * 1.0)\n",
    "    \n",
    "def Precision(train, test, result):\n",
    "    hit = 0\n",
    "    all = 0\n",
    "    for user in train.keys():\n",
    "        tu = test.get(user)\n",
    "        if tu is None:\n",
    "            continue    \n",
    "        rank = GetRecommendation(result, user)\n",
    "        for item in rank:\n",
    "            if item in tu:\n",
    "                hit += 1\n",
    "        all += len(rank)\n",
    "    return hit / (all * 1.0)\n",
    "    \n",
    "def Coverage(train, test, result):\n",
    "    recommend_items = set()\n",
    "    all_items = set()\n",
    "    for user in train.keys():\n",
    "        for item in train[user]:\n",
    "            all_items.add(item)\n",
    "        rank = GetRecommendation(result, user)\n",
    "        for item in rank:\n",
    "            recommend_items.add(item)\n",
    "    return len(recommend_items) / (len(all_items) * 1.0)\n",
    "    \n",
    "def Popularity(train, test, result):\n",
    "    item_popularity = dict()\n",
    "    for user, items in train.items():\n",
    "        for item in items:\n",
    "            if item not in item_popularity:\n",
    "                item_popularity[item] = 0\n",
    "            item_popularity[item] += 1\n",
    "\n",
    "    ret = 0\n",
    "    n = 0\n",
    "    for user in train.keys():\n",
    "        rank = GetRecommendation(result, user)\n",
    "        for item in rank:\n",
    "            ret += math.log(1 + item_popularity[item])\n",
    "            n += 1\n",
    "        ret /= n * 1.0\n",
    "    return ret"
   ]
  },
  {
   "cell_type": "code",
   "execution_count": 8,
   "metadata": {},
   "outputs": [],
   "source": [
    "def rec_summary(result, numFold=5):\n",
    "    precision =0\n",
    "    recall = 0\n",
    "    coverage = 0\n",
    "    popularity =0\n",
    "\n",
    "    for i in range(0, numFold):\n",
    "        precision += Precision(train,test, result)\n",
    "        recall += Recall(train,test,result)\n",
    "        coverage += Coverage(train, test, result)\n",
    "        popularity += Popularity(train, test, result)\n",
    "\n",
    "    precision /= numFold\n",
    "    recall /= numFold\n",
    "    coverage /= numFold\n",
    "    popularity /= numFold\n",
    "\n",
    "    print('precision = %f' %precision)\n",
    "    print('recall = %f' %recall)\n",
    "    print('coverage = %f' %coverage)\n",
    "    print('popularity = %f' %popularity)"
   ]
  },
  {
   "cell_type": "code",
   "execution_count": 9,
   "metadata": {},
   "outputs": [],
   "source": [
    "def init_items_pool(train):\n",
    "    print(\"Initialize items pool start\")\n",
    "    items_pool = set()\n",
    "    for user, items in train.items():\n",
    "        for item in items:\n",
    "            items_pool.add(item)\n",
    "    print(\"Initialize items pool complete\")\n",
    "    return list(items_pool)"
   ]
  },
  {
   "cell_type": "code",
   "execution_count": 10,
   "metadata": {},
   "outputs": [],
   "source": [
    "def RandomSelectNegativeSample(items):\n",
    "    ret = dict()\n",
    "    for i in items:\n",
    "        ret[i] = 1\n",
    "    n = 0\n",
    "    for i in range(0, len(items) * 3):\n",
    "        item = items_pool[random.randint(0, len(items_pool) -1)]\n",
    "        if item in ret:\n",
    "            continue\n",
    "        ret[item] = 0\n",
    "        n += 1\n",
    "        if n > len(items):\n",
    "            break\n",
    "    return ret"
   ]
  },
  {
   "cell_type": "code",
   "execution_count": 11,
   "metadata": {},
   "outputs": [],
   "source": [
    "def Predict(user, item, P, Q):\n",
    "#     rate = 0\n",
    "#     for f, puf in P[user].items():\n",
    "#         qif = Q[item][f]\n",
    "#         rate += puf * qif\n",
    "    return np.dot(P[user], Q[item])"
   ]
  },
  {
   "cell_type": "code",
   "execution_count": 12,
   "metadata": {},
   "outputs": [],
   "source": [
    "def InitModel(train, F):\n",
    "    P = dict()\n",
    "    Q = dict()\n",
    "    for user in train.keys():\n",
    "        P[user] = np.random.random(F)\n",
    "    \n",
    "    items_pool = init_items_pool(train)\n",
    "    for item in items_pool:\n",
    "        Q[item] = np.random.random(F)\n",
    "\n",
    "    return P, Q"
   ]
  },
  {
   "cell_type": "code",
   "execution_count": 13,
   "metadata": {},
   "outputs": [],
   "source": [
    "def LatentFactorModel(train, F, N, alpha, lam):\n",
    "    P, Q = InitModel(train, F)\n",
    "    for step in range(0, N):\n",
    "        for user, items in train.items():\n",
    "            samples = RandomSelectNegativeSample(items)\n",
    "            for item, rui in samples.items():\n",
    "                eui = rui - Predict(user, item, P, Q)\n",
    "                P[user] += alpha * (eui * Q[item] - lam * P[user])\n",
    "                Q[item] += alpha * (eui * P[user] - lam * Q[item])\n",
    "        alpha *= 0.9\n",
    "    \n",
    "    return P, Q"
   ]
  },
  {
   "cell_type": "code",
   "execution_count": 14,
   "metadata": {},
   "outputs": [],
   "source": [
    "def LFMRec(train, N, P, Q):\n",
    "        \n",
    "    rank = dict()\n",
    "    result = dict()\n",
    "    \n",
    "    for user in train.keys():\n",
    "        user_items = train[user]\n",
    "        item_list = []\n",
    "        for i in Q:  \n",
    "            if i in user_items:\n",
    "                continue\n",
    "            rank.setdefault(i, 0)\n",
    "            rank[i] = np.dot(P[user], Q[i])\n",
    "        \n",
    "#         for f, qif in Q[i].items():\n",
    "#             puf = P[user][f]\n",
    "#             rank[i] += puf * qif\n",
    "            \n",
    "        rec_items = list(sorted(rank.items(), key=operator.itemgetter(1), reverse=True)[:N])\n",
    "        for tuple in rec_items:\n",
    "            item_list.append(tuple[0])\n",
    "        result[user] = item_list\n",
    "    return result"
   ]
  },
  {
   "cell_type": "code",
   "execution_count": 15,
   "metadata": {},
   "outputs": [],
   "source": [
    "filePath = \"./dataset/ratings.dat\"\n",
    "train, test = preprocess_data(filePath)"
   ]
  },
  {
   "cell_type": "code",
   "execution_count": 16,
   "metadata": {},
   "outputs": [
    {
     "name": "stdout",
     "output_type": "stream",
     "text": [
      "Initialize items pool start\n",
      "Initialize items pool complete\n"
     ]
    }
   ],
   "source": [
    "items_pool = init_items_pool(train)"
   ]
  },
  {
   "cell_type": "code",
   "execution_count": 25,
   "metadata": {},
   "outputs": [
    {
     "name": "stdout",
     "output_type": "stream",
     "text": [
      "Initialize items pool start\n",
      "Initialize items pool complete\n"
     ]
    }
   ],
   "source": [
    "P, Q = LatentFactorModel(train, 5, 5, 0.02, 0.02)"
   ]
  },
  {
   "cell_type": "code",
   "execution_count": 26,
   "metadata": {},
   "outputs": [],
   "source": [
    "lfm_result = LFMRec(train, 10, P, Q)"
   ]
  },
  {
   "cell_type": "code",
   "execution_count": 27,
   "metadata": {},
   "outputs": [
    {
     "name": "stdout",
     "output_type": "stream",
     "text": [
      "precision = 0.010945\n",
      "recall = 0.003975\n",
      "coverage = 0.090909\n",
      "popularity = 0.001162\n"
     ]
    }
   ],
   "source": [
    "rec_summary(lfm_result)"
   ]
  },
  {
   "cell_type": "code",
   "execution_count": 17,
   "metadata": {},
   "outputs": [
    {
     "name": "stdout",
     "output_type": "stream",
     "text": [
      "Initialize items pool start\n",
      "Initialize items pool complete\n"
     ]
    }
   ],
   "source": [
    "P, Q = LatentFactorModel(train, 50, 5, 0.02, 0.02)"
   ]
  },
  {
   "cell_type": "code",
   "execution_count": 18,
   "metadata": {},
   "outputs": [],
   "source": [
    "lfm_result = LFMRec(train, 10, P, Q)"
   ]
  },
  {
   "cell_type": "code",
   "execution_count": 19,
   "metadata": {},
   "outputs": [
    {
     "name": "stdout",
     "output_type": "stream",
     "text": [
      "precision = 0.014345\n",
      "recall = 0.005209\n",
      "coverage = 0.885210\n",
      "popularity = 0.001118\n"
     ]
    }
   ],
   "source": [
    "rec_summary(lfm_result)"
   ]
  },
  {
   "cell_type": "code",
   "execution_count": null,
   "metadata": {},
   "outputs": [],
   "source": []
  }
 ],
 "metadata": {
  "kernelspec": {
   "display_name": "Python 3",
   "language": "python",
   "name": "python3"
  },
  "language_info": {
   "codemirror_mode": {
    "name": "ipython",
    "version": 3
   },
   "file_extension": ".py",
   "mimetype": "text/x-python",
   "name": "python",
   "nbconvert_exporter": "python",
   "pygments_lexer": "ipython3",
   "version": "3.7.3"
  }
 },
 "nbformat": 4,
 "nbformat_minor": 2
}
