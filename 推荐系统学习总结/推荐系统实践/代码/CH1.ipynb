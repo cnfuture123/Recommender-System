{
 "cells": [
  {
   "cell_type": "code",
   "execution_count": 1,
   "metadata": {},
   "outputs": [],
   "source": [
    "import math"
   ]
  },
  {
   "cell_type": "code",
   "execution_count": 2,
   "metadata": {},
   "outputs": [],
   "source": [
    "def RMSE(records):\n",
    "    \"\"\"\n",
    "        @param: records[i] = [u,i,rui,pui]\n",
    "                u: user,\n",
    "                i: item\n",
    "                rui: actual rating\n",
    "                pui: predicted rating\n",
    "        @return: RMSE\n",
    "    \"\"\"\n",
    "    numerator = sum([(rui - pui) * (rui - pui) for rui, pui in records])\n",
    "    denominator = float(len(records))\n",
    "    return math.sqrt(numerator / denominator)"
   ]
  },
  {
   "cell_type": "code",
   "execution_count": 3,
   "metadata": {},
   "outputs": [],
   "source": [
    "def MSE(records):\n",
    "    \"\"\"\n",
    "        @param: records[i] = [u,i,rui,pui]\n",
    "                u: user,\n",
    "                i: item\n",
    "                rui: actual rating\n",
    "                pui: predicted rating\n",
    "        @return: RMSEk\n",
    "    \"\"\"\n",
    "    numerator = sum([abs(rui - pui) for rui, pui in records])\n",
    "    denominator = float(len(records))\n",
    "    return numerator / denominator"
   ]
  },
  {
   "cell_type": "code",
   "execution_count": 4,
   "metadata": {},
   "outputs": [],
   "source": [
    "def precision(test, N):\n",
    "    n_union = 0\n",
    "    n_precision = 0\n",
    "    for user, items in test.items():\n",
    "        rank = Recommend(user, N)\n",
    "        n_union += len(rank & items)\n",
    "        n_precision += N\n",
    "    return n_union / (1.0 * n_precision)"
   ]
  },
  {
   "cell_type": "code",
   "execution_count": 5,
   "metadata": {},
   "outputs": [],
   "source": [
    "def recall(test, N):\n",
    "    n_union = 0\n",
    "    n_recall = 0\n",
    "    for user, items in test.items():\n",
    "        rank = Recommend(user, N)\n",
    "        n_union += len(rank & items)\n",
    "        n_recall += len(items)\n",
    "    return n_union / (1.0 * n_recall)"
   ]
  },
  {
   "cell_type": "code",
   "execution_count": 6,
   "metadata": {},
   "outputs": [],
   "source": [
    "def GiniIndex(p):\n",
    "    j = 1\n",
    "    n = len(p)\n",
    "    G = 0\n",
    "    for item, weight in sorted(p.items(), key=itemgetter(1)):\n",
    "        G += (2 * j - n - 1) * weight\n",
    "    return G / float(n - 1)"
   ]
  },
  {
   "cell_type": "code",
   "execution_count": 7,
   "metadata": {},
   "outputs": [],
   "source": [
    "def coverage(recommends, all_items):\n",
    "    \"\"\"\n",
    "        计算覆盖率\n",
    "        @param recommends : dict形式 { userID : Items }\n",
    "        @param all_items :  所有的items，为list或set类型\n",
    "    \"\"\"\n",
    "    recommend_items = set()\n",
    "    for _, items in recommends.items():\n",
    "        for item in items:\n",
    "            recommend_items.add(item)\n",
    "    return len(recommend_items) / len(all_items)"
   ]
  },
  {
   "cell_type": "code",
   "execution_count": null,
   "metadata": {},
   "outputs": [],
   "source": []
  }
 ],
 "metadata": {
  "kernelspec": {
   "display_name": "Python 3",
   "language": "python",
   "name": "python3"
  },
  "language_info": {
   "codemirror_mode": {
    "name": "ipython",
    "version": 3
   },
   "file_extension": ".py",
   "mimetype": "text/x-python",
   "name": "python",
   "nbconvert_exporter": "python",
   "pygments_lexer": "ipython3",
   "version": "3.7.3"
  }
 },
 "nbformat": 4,
 "nbformat_minor": 2
}
