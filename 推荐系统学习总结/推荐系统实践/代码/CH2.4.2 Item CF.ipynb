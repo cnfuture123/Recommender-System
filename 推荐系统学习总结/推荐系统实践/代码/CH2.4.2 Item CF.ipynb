{
 "cells": [
  {
   "cell_type": "code",
   "execution_count": 1,
   "metadata": {},
   "outputs": [],
   "source": [
    "# 导入包\n",
    "import random\n",
    "import math\n",
    "import time\n",
    "import numpy as np\n",
    "import pandas as pd\n",
    "import warnings\n",
    "import os\n",
    "import sys\n",
    "import operator\n",
    "warnings.filterwarnings('ignore')\n",
    "np.set_printoptions(suppress=True)"
   ]
  },
  {
   "cell_type": "code",
   "execution_count": 2,
   "metadata": {},
   "outputs": [],
   "source": [
    "def read_data(path):\n",
    "    data = []\n",
    "    with open(path,\"r\") as f:\n",
    "        for line in f.readlines():\n",
    "            user,movie,rating,_ = line.split(\"::\")\n",
    "            data.append([user, movie])\n",
    "        return data"
   ]
  },
  {
   "cell_type": "code",
   "execution_count": 3,
   "metadata": {},
   "outputs": [],
   "source": [
    "def split_data(data, M=5, k=1):\n",
    "    train = []\n",
    "    test = []\n",
    "    random.seed(42)\n",
    "    for line in data:\n",
    "        if random.randint(0, M) == k:\n",
    "            test.append(line)\n",
    "        else:\n",
    "            train.append(line)\n",
    "    return train, test"
   ]
  },
  {
   "cell_type": "code",
   "execution_count": 4,
   "metadata": {},
   "outputs": [],
   "source": [
    "# convert data to dict format\n",
    "def transform_data(data):   \n",
    "    data_dict = {}\n",
    "    for user, movie in data:\n",
    "        if user not in data_dict:\n",
    "            data_dict[user] = set()\n",
    "        data_dict[user].add(movie)\n",
    "        \n",
    "    data_dict = {user : list(data_dict[user]) for user in data_dict}   \n",
    "    return data_dict        "
   ]
  },
  {
   "cell_type": "code",
   "execution_count": 5,
   "metadata": {},
   "outputs": [],
   "source": [
    "def preprocess_data(path):\n",
    "    raw_data = read_data(filePath)\n",
    "    train_set, test_set = split_data(raw_data)\n",
    "    train = transform_data(train_set)\n",
    "    test = transform_data(test_set)\n",
    "    return train, test"
   ]
  },
  {
   "cell_type": "code",
   "execution_count": 6,
   "metadata": {},
   "outputs": [],
   "source": [
    "def GetRecommendation(result, user):\n",
    "    rank = result[user]\n",
    "    return rank\n",
    "    \n",
    "def Recall(train, test, result):\n",
    "    hit = 0\n",
    "    all = 0\n",
    "    for user in train.keys():\n",
    "        tu = test.get(user)\n",
    "        if tu is None:\n",
    "            continue\n",
    "        rank = GetRecommendation(result, user)\n",
    "        for item in rank:\n",
    "            if item in tu:\n",
    "                hit += 1\n",
    "        all += len(tu)\n",
    "    return hit / (all * 1.0)\n",
    "    \n",
    "def Precision(train, test, result):\n",
    "    hit = 0\n",
    "    all = 0\n",
    "    for user in train.keys():\n",
    "        tu = test.get(user)\n",
    "        if tu is None:\n",
    "            continue    \n",
    "        rank = GetRecommendation(result, user)\n",
    "        for item in rank:\n",
    "            if item in tu:\n",
    "                hit += 1\n",
    "        all += len(rank)\n",
    "    return hit / (all * 1.0)\n",
    "    \n",
    "def Coverage(train, test, result):\n",
    "    recommend_items = set()\n",
    "    all_items = set()\n",
    "    for user in train.keys():\n",
    "        for item in train[user]:\n",
    "            all_items.add(item)\n",
    "        rank = GetRecommendation(result, user)\n",
    "        for item in rank:\n",
    "            recommend_items.add(item)\n",
    "    return len(recommend_items) / (len(all_items) * 1.0)\n",
    "    \n",
    "def Popularity(train, test, result):\n",
    "    item_popularity = dict()\n",
    "    for user, items in train.items():\n",
    "        for item in items:\n",
    "            if item not in item_popularity:\n",
    "                item_popularity[item] = 0\n",
    "            item_popularity[item] += 1\n",
    "\n",
    "    ret = 0\n",
    "    n = 0\n",
    "    for user in train.keys():\n",
    "        rank = GetRecommendation(result, user)\n",
    "        for item in rank:\n",
    "            ret += math.log(1 + item_popularity[item])\n",
    "            n += 1\n",
    "        ret /= n * 1.0\n",
    "    return ret"
   ]
  },
  {
   "cell_type": "code",
   "execution_count": 7,
   "metadata": {},
   "outputs": [],
   "source": [
    "def rec_summary(result, numFold=5):\n",
    "    precision =0\n",
    "    recall = 0\n",
    "    coverage = 0\n",
    "    popularity =0\n",
    "\n",
    "    for i in range(0, numFold):\n",
    "        precision += Precision(train,test, result)\n",
    "        recall += Recall(train,test,result)\n",
    "        coverage += Coverage(train, test, result)\n",
    "        popularity += Popularity(train, test, result)\n",
    "\n",
    "    precision /= numFold\n",
    "    recall /= numFold\n",
    "    coverage /= numFold\n",
    "    popularity /= numFold\n",
    "\n",
    "    print('precision = %f' %precision)\n",
    "    print('recall = %f' %recall)\n",
    "    print('coverage = %f' %coverage)\n",
    "    print('popularity = %f' %popularity)"
   ]
  },
  {
   "cell_type": "code",
   "execution_count": 8,
   "metadata": {},
   "outputs": [],
   "source": [
    "def ItemSimilarity(train):\n",
    "    #calculate co-rated users between items\n",
    "    C = dict()\n",
    "    N = dict()\n",
    "    for u, items in train.items():\n",
    "        for i in items:\n",
    "            N.setdefault(i,0)\n",
    "            N[i] += 1\n",
    "            C.setdefault(i,{})\n",
    "            for j in items:\n",
    "                if i == j:\n",
    "                    continue\n",
    "                C[i].setdefault(j,0)\n",
    "                C[i][j] += 1\n",
    "        \n",
    "    #calculate finial similarity matrix W \n",
    "    W = C.copy()\n",
    "    for i, related_items in C.items():\n",
    "        for j, cij in related_items.items():\n",
    "            W[i][j] = cij / math.sqrt(N[i] * N[j])\n",
    "    return W"
   ]
  },
  {
   "cell_type": "code",
   "execution_count": 11,
   "metadata": {},
   "outputs": [],
   "source": [
    "def ItemSimilarityIUF(train):\n",
    "    #calculate co-rated users between items\n",
    "    C = dict()\n",
    "    N = dict()\n",
    "    for u, items in train.items():\n",
    "        for i in items:\n",
    "            N.setdefault(i,0)\n",
    "            N[i] += 1\n",
    "            C.setdefault(i,{})\n",
    "            for j in items:\n",
    "                if i == j:\n",
    "                    continue\n",
    "                C[i].setdefault(j,0)\n",
    "                C[i][j] += 1 / math.log(1 + len(items) * 1.0)\n",
    "        \n",
    "    #calculate finial similarity matrix W \n",
    "    W = C.copy()\n",
    "    for i, related_items in C.items():\n",
    "        for j, cij in related_items.items():\n",
    "            W[i][j] = cij / math.sqrt(N[i] * N[j])\n",
    "    return W"
   ]
  },
  {
   "cell_type": "code",
   "execution_count": 16,
   "metadata": {},
   "outputs": [],
   "source": [
    "from sklearn.preprocessing import normalize\n",
    "\n",
    "def ItemSimilarityNorm(train):\n",
    "    org_W = ItemSimilarity(train)\n",
    "    W = org_W.copy()\n",
    "    for i, related_items in W.items():\n",
    "        max_num = max(related_items)\n",
    "        W[i] = {key : value / max_num for key,value in related_items.items()}\n",
    "    return W"
   ]
  },
  {
   "cell_type": "code",
   "execution_count": 17,
   "metadata": {},
   "outputs": [],
   "source": [
    "def ItemCFRec(train, N):\n",
    "        \n",
    "    W = ItemSimilarity(train)\n",
    "    rank = dict()\n",
    "    result = dict()\n",
    "    \n",
    "    for user in train.keys():\n",
    "        user_items = train[user]\n",
    "        item_list = []\n",
    "        for i in user_items:\n",
    "            for j, wj in sorted(W[i].items(), key=operator.itemgetter(1), reverse=True)[:20]:\n",
    "                if j in user_items:\n",
    "                    continue\n",
    "                rank.setdefault(j,0)\n",
    "                rank[j] += wj\n",
    "        rec_items = list(sorted(rank.items(), key=operator.itemgetter(1), reverse=True)[:N])\n",
    "        for tuple in rec_items:\n",
    "            item_list.append(tuple[0])\n",
    "        result[user] = item_list\n",
    "    return result"
   ]
  },
  {
   "cell_type": "code",
   "execution_count": 18,
   "metadata": {},
   "outputs": [],
   "source": [
    "def ItemCFIUFRec(train, N):\n",
    "        \n",
    "    W = ItemSimilarityIUF(train)\n",
    "    rank = dict()\n",
    "    result = dict()\n",
    "    \n",
    "    for user in train.keys():\n",
    "        user_items = train[user]\n",
    "        item_list = []\n",
    "        for i in user_items:\n",
    "            for j, wj in sorted(W[i].items(), key=operator.itemgetter(1), reverse=True)[:20]:\n",
    "                if j in user_items:\n",
    "                    continue\n",
    "                rank.setdefault(j,0)\n",
    "                rank[j] += wj\n",
    "        rec_items = list(sorted(rank.items(), key=operator.itemgetter(1), reverse=True)[:N])\n",
    "        for tuple in rec_items:\n",
    "            item_list.append(tuple[0])\n",
    "        result[user] = item_list\n",
    "    return result"
   ]
  },
  {
   "cell_type": "code",
   "execution_count": 19,
   "metadata": {},
   "outputs": [],
   "source": [
    "def ItemCFNormRec(train, N):\n",
    "        \n",
    "    W = ItemSimilarityNorm(train)\n",
    "    rank = dict()\n",
    "    result = dict()\n",
    "    \n",
    "    for user in train.keys():\n",
    "        user_items = train[user]\n",
    "        item_list = []\n",
    "        for i in user_items:\n",
    "            for j, wj in sorted(W[i].items(), key=operator.itemgetter(1), reverse=True)[:20]:\n",
    "                if j in user_items:\n",
    "                    continue\n",
    "                rank.setdefault(j,0)\n",
    "                rank[j] += wj\n",
    "        rec_items = list(sorted(rank.items(), key=operator.itemgetter(1), reverse=True)[:N])\n",
    "        for tuple in rec_items:\n",
    "            item_list.append(tuple[0])\n",
    "        result[user] = item_list\n",
    "    return result"
   ]
  },
  {
   "cell_type": "code",
   "execution_count": 14,
   "metadata": {},
   "outputs": [],
   "source": [
    "filePath = \"./dataset/ratings.dat\"\n",
    "train, test = preprocess_data(filePath)"
   ]
  },
  {
   "cell_type": "code",
   "execution_count": 15,
   "metadata": {},
   "outputs": [],
   "source": [
    "itemcf_result = ItemCFRec(train, 10)"
   ]
  },
  {
   "cell_type": "code",
   "execution_count": 16,
   "metadata": {},
   "outputs": [
    {
     "name": "stdout",
     "output_type": "stream",
     "text": [
      "precision = 0.067512\n",
      "recall = 0.024517\n",
      "coverage = 0.008684\n",
      "popularity = 0.001263\n"
     ]
    }
   ],
   "source": [
    "rec_summary(itemcf_result)"
   ]
  },
  {
   "cell_type": "code",
   "execution_count": 17,
   "metadata": {},
   "outputs": [],
   "source": [
    "itemcf_iuf_result = ItemCFIUFRec(train, 10)"
   ]
  },
  {
   "cell_type": "code",
   "execution_count": 18,
   "metadata": {},
   "outputs": [
    {
     "name": "stdout",
     "output_type": "stream",
     "text": [
      "precision = 0.071493\n",
      "recall = 0.025963\n",
      "coverage = 0.008684\n",
      "popularity = 0.001270\n"
     ]
    }
   ],
   "source": [
    "rec_summary(itemcf_iuf_result)"
   ]
  },
  {
   "cell_type": "code",
   "execution_count": 22,
   "metadata": {},
   "outputs": [],
   "source": [
    "# itemcf_norm_result = ItemCFNormRec(train, 10)"
   ]
  },
  {
   "cell_type": "code",
   "execution_count": 23,
   "metadata": {},
   "outputs": [],
   "source": [
    "# rec_summary(itemcf_norm_result)"
   ]
  },
  {
   "cell_type": "code",
   "execution_count": null,
   "metadata": {},
   "outputs": [],
   "source": []
  }
 ],
 "metadata": {
  "kernelspec": {
   "display_name": "Python 3",
   "language": "python",
   "name": "python3"
  },
  "language_info": {
   "codemirror_mode": {
    "name": "ipython",
    "version": 3
   },
   "file_extension": ".py",
   "mimetype": "text/x-python",
   "name": "python",
   "nbconvert_exporter": "python",
   "pygments_lexer": "ipython3",
   "version": "3.7.3"
  }
 },
 "nbformat": 4,
 "nbformat_minor": 2
}
