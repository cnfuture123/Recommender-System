{
 "cells": [
  {
   "cell_type": "code",
   "execution_count": 1,
   "metadata": {},
   "outputs": [],
   "source": [
    "# 导入包\n",
    "import random\n",
    "import math\n",
    "import time\n",
    "import numpy as np\n",
    "import pandas as pd\n",
    "import warnings\n",
    "import os\n",
    "import sys\n",
    "import operator\n",
    "warnings.filterwarnings('ignore')\n",
    "np.set_printoptions(suppress=True)"
   ]
  },
  {
   "cell_type": "code",
   "execution_count": 2,
   "metadata": {},
   "outputs": [],
   "source": [
    "def read_data(path):\n",
    "    data = []\n",
    "    with open(path,\"r\") as f:\n",
    "        for line in f.readlines():\n",
    "            user,movie,rating,_ = line.split(\"::\")\n",
    "            data.append([user, movie])\n",
    "        return data"
   ]
  },
  {
   "cell_type": "code",
   "execution_count": 3,
   "metadata": {},
   "outputs": [],
   "source": [
    "def split_data(data, M=5, k=1):\n",
    "    train = []\n",
    "    test = []\n",
    "    random.seed(42)\n",
    "    for line in data:\n",
    "        if random.randint(0, M) == k:\n",
    "            test.append(line)\n",
    "        else:\n",
    "            train.append(line)\n",
    "    return train, test"
   ]
  },
  {
   "cell_type": "code",
   "execution_count": 4,
   "metadata": {},
   "outputs": [],
   "source": [
    "# convert data to dict format\n",
    "def transform_data(data):   \n",
    "    data_dict = {}\n",
    "    for user, movie in data:\n",
    "        if user not in data_dict:\n",
    "            data_dict[user] = set()\n",
    "        data_dict[user].add(movie)\n",
    "        \n",
    "    data_dict = {user : list(data_dict[user]) for user in data_dict}   \n",
    "    return data_dict        "
   ]
  },
  {
   "cell_type": "code",
   "execution_count": 5,
   "metadata": {},
   "outputs": [],
   "source": [
    "def preprocess_data(path):\n",
    "    raw_data = read_data(filePath)\n",
    "    train_set, test_set = split_data(raw_data)\n",
    "    train = transform_data(train_set)\n",
    "    test = transform_data(test_set)\n",
    "    return train, test"
   ]
  },
  {
   "cell_type": "code",
   "execution_count": 6,
   "metadata": {},
   "outputs": [],
   "source": [
    "def GetRecommendation(result, user):\n",
    "    rank = result[user]\n",
    "    return rank\n",
    "    \n",
    "def Recall(train, test, result):\n",
    "    hit = 0\n",
    "    all = 0\n",
    "    for user in train.keys():\n",
    "        tu = test.get(user)\n",
    "        if tu is None:\n",
    "            continue\n",
    "        rank = GetRecommendation(result, user)\n",
    "        for item in rank:\n",
    "            if item in tu:\n",
    "                hit += 1\n",
    "        all += len(tu)\n",
    "    return hit / (all * 1.0)\n",
    "    \n",
    "def Precision(train, test, result):\n",
    "    hit = 0\n",
    "    all = 0\n",
    "    for user in train.keys():\n",
    "        tu = test.get(user)\n",
    "        if tu is None:\n",
    "            continue    \n",
    "        rank = GetRecommendation(result, user)\n",
    "        for item in rank:\n",
    "            if item in tu:\n",
    "                hit += 1\n",
    "        all += len(rank)\n",
    "    return hit / (all * 1.0)\n",
    "    \n",
    "def Coverage(train, test, result):\n",
    "    recommend_items = set()\n",
    "    all_items = set()\n",
    "    for user in train.keys():\n",
    "        for item in train[user]:\n",
    "            all_items.add(item)\n",
    "        rank = GetRecommendation(result, user)\n",
    "        for item in rank:\n",
    "            recommend_items.add(item)\n",
    "    return len(recommend_items) / (len(all_items) * 1.0)\n",
    "    \n",
    "def Popularity(train, test, result):\n",
    "    item_popularity = dict()\n",
    "    for user, items in train.items():\n",
    "        for item in items:\n",
    "            if item not in item_popularity:\n",
    "                item_popularity[item] = 0\n",
    "            item_popularity[item] += 1\n",
    "\n",
    "    ret = 0\n",
    "    n = 0\n",
    "    for user in train.keys():\n",
    "        rank = GetRecommendation(result, user)\n",
    "        for item in rank:\n",
    "            ret += math.log(1 + item_popularity[item])\n",
    "            n += 1\n",
    "        ret /= n * 1.0\n",
    "    return ret"
   ]
  },
  {
   "cell_type": "code",
   "execution_count": 7,
   "metadata": {},
   "outputs": [],
   "source": [
    "def rec_summary(result, numFold=5):\n",
    "    precision =0\n",
    "    recall = 0\n",
    "    coverage = 0\n",
    "    popularity =0\n",
    "\n",
    "    for i in range(0, numFold):\n",
    "        precision += Precision(train,test, result)\n",
    "        recall += Recall(train,test,result)\n",
    "        coverage += Coverage(train, test, result)\n",
    "        popularity += Popularity(train, test, result)\n",
    "\n",
    "    precision /= numFold\n",
    "    recall /= numFold\n",
    "    coverage /= numFold\n",
    "    popularity /= numFold\n",
    "\n",
    "    print('precision = %f' %precision)\n",
    "    print('recall = %f' %recall)\n",
    "    print('coverage = %f' %coverage)\n",
    "    print('popularity = %f' %popularity)"
   ]
  },
  {
   "cell_type": "markdown",
   "metadata": {},
   "source": [
    "## 2.4.1 基于用户的协同过滤算法"
   ]
  },
  {
   "cell_type": "code",
   "execution_count": 8,
   "metadata": {},
   "outputs": [],
   "source": [
    "# 余弦相似度, 时间复杂度是O(|U|*|U|)\n",
    "def UserSimilarityV1(train):\n",
    "    W = dict()\n",
    "    for u in train.keys():\n",
    "        for v in train.keys():\n",
    "            if u == v:\n",
    "                continue\n",
    "            W[u][v] = len(train[u] & train[v])\n",
    "            W[u][v] /= math.sqrt(len(train[u]) * len(train[v]) * 1.0)\n",
    "    return W            "
   ]
  },
  {
   "cell_type": "code",
   "execution_count": 9,
   "metadata": {},
   "outputs": [],
   "source": [
    "# UserCF\n",
    "def UserSimilarityV2(train):\n",
    "    # build inverse table for item_users\n",
    "    item_users = dict()\n",
    "    for u, items in train.items():\n",
    "        for i in items:\n",
    "            if i not in item_users:\n",
    "                item_users[i] = set()\n",
    "            item_users[i].add(u)\n",
    "    \n",
    "    #calculate co-rated items between users\n",
    "    C = dict()\n",
    "    N = dict()\n",
    "    for i, users in item_users.items():\n",
    "        for u in users:\n",
    "            N.setdefault(u,0)\n",
    "            C.setdefault(u,{})\n",
    "            N[u] += 1\n",
    "            for v in users:\n",
    "                if u == v:\n",
    "                    continue\n",
    "                C[u].setdefault(v,0)\n",
    "                C[u][v] += 1\n",
    "                \n",
    "    #calculate finial similarity matrix W\n",
    "    W = C.copy()\n",
    "    for u, related_users in C.items():\n",
    "        for v, cuv in related_users.items():\n",
    "            W[u][v] = cuv / math.sqrt(N[u] * N[v])\n",
    "    return W"
   ]
  },
  {
   "cell_type": "code",
   "execution_count": 10,
   "metadata": {},
   "outputs": [],
   "source": [
    "# Random Recommendation\n",
    "def RandomRec(train, N):\n",
    "    all_items = set()\n",
    "    result = dict()\n",
    "    for item_list in train.values():\n",
    "        for item in item_list:        \n",
    "            all_items.add(item)\n",
    "     \n",
    "    for user in train.keys():    \n",
    "        user_items = train[user]\n",
    "        rec_items = [item for item in all_items if item not in user_items]\n",
    "        result[user] = rec_items[:N]\n",
    "    return result"
   ]
  },
  {
   "cell_type": "code",
   "execution_count": 11,
   "metadata": {},
   "outputs": [],
   "source": [
    "def MostPopularRec(train, N):\n",
    "    items = dict()\n",
    "    result = dict()\n",
    "       \n",
    "    for item_list in train.values():\n",
    "        for item in item_list:        \n",
    "            if item not in items:\n",
    "                items[item] = 0\n",
    "            items[item] += 1            \n",
    "            \n",
    "    for user in train.keys():\n",
    "        user_items = train[user]\n",
    "        item_list = []\n",
    "        rec_items = {item: items[item] for item in items if item not in user_items}\n",
    "        rec_items_list = list(sorted(rec_items.items(), key=operator.itemgetter(1), reverse=True))[:N]\n",
    "        for tuple in rec_items_list:\n",
    "            item_list.append(tuple[0])\n",
    "        result[user] = item_list\n",
    "    \n",
    "    return result"
   ]
  },
  {
   "cell_type": "code",
   "execution_count": 12,
   "metadata": {},
   "outputs": [],
   "source": [
    "def UserCFRec(train, N, K):\n",
    "    W = UserSimilarityV2(train)\n",
    "    \n",
    "    rank = dict()\n",
    "    result = dict()\n",
    "    \n",
    "    for user in train.keys():  \n",
    "        interacted_items = train[user]\n",
    "        item_list = []\n",
    "        for v, wuv in sorted(W[user].items(), key=operator.itemgetter(1), reverse=True)[:K]:\n",
    "            for v_item in train[v]:                \n",
    "                if v_item in interacted_items:\n",
    "                    continue\n",
    "                rank.setdefault(v_item,0)\n",
    "                rank[v_item] += wuv\n",
    "            \n",
    "        rec_items = list(sorted(rank.items(), key=operator.itemgetter(1), reverse=True)[:N])\n",
    "        for tuple in rec_items:\n",
    "            item_list.append(tuple[0])\n",
    "        result[user] = item_list\n",
    "    return result"
   ]
  },
  {
   "cell_type": "code",
   "execution_count": 20,
   "metadata": {},
   "outputs": [],
   "source": [
    "# User-IIF\n",
    "def UserSimilarityV3(train):\n",
    "    # build inverse table for item_users\n",
    "    item_users = dict()\n",
    "    for u, items in train.items():\n",
    "        for i in items:\n",
    "            if i not in item_users:\n",
    "                item_users[i] = set()\n",
    "            item_users[i].add(u)\n",
    "    \n",
    "    #calculate co-rated items between users\n",
    "    C = dict()\n",
    "    N = dict()\n",
    "    for i, users in item_users.items():\n",
    "        for u in users:\n",
    "            N.setdefault(u,0)\n",
    "            C.setdefault(u,{})\n",
    "            N[u] += 1\n",
    "            for v in users:\n",
    "                if u == v:\n",
    "                    continue\n",
    "                C[u].setdefault(v,0)\n",
    "                C[u][v] += 1 / math.log(1 + len(users))\n",
    "                \n",
    "    #calculate finial similarity matrix W\n",
    "    W = C.copy()\n",
    "    for u, related_users in C.items():\n",
    "        for v, cuv in related_users.items():\n",
    "            W[u][v] = cuv / math.sqrt(N[u] * N[v])\n",
    "    return W"
   ]
  },
  {
   "cell_type": "code",
   "execution_count": 23,
   "metadata": {},
   "outputs": [],
   "source": [
    "def UserIIFRec(train, N, K):\n",
    "    W = UserSimilarityV3(train)\n",
    "    \n",
    "    rank = dict()\n",
    "    result = dict()\n",
    "    \n",
    "    for user in train.keys():\n",
    "        interacted_items = train[user]\n",
    "        item_list = []\n",
    "        \n",
    "        for v, wuv in sorted(W[user].items(), key = operator.itemgetter(1), reverse=True)[:K]:\n",
    "            for v_item in train[v]:                 \n",
    "                if v_item in interacted_items:\n",
    "                    continue\n",
    "                rank.setdefault(v_item,0)\n",
    "                rank[v_item] += wuv \n",
    "            \n",
    "        rec_items = list(sorted(rank.items(), key=operator.itemgetter(1), reverse=True)[:N])\n",
    "        for tuple in rec_items:\n",
    "            item_list.append(tuple[0])\n",
    "        result[user] = item_list\n",
    "    return result"
   ]
  },
  {
   "cell_type": "markdown",
   "metadata": {},
   "source": [
    "### Expirement for User CF"
   ]
  },
  {
   "cell_type": "code",
   "execution_count": 15,
   "metadata": {},
   "outputs": [],
   "source": [
    "filePath = \"./dataset/ratings.dat\"\n",
    "train, test = preprocess_data(filePath)"
   ]
  },
  {
   "cell_type": "code",
   "execution_count": 16,
   "metadata": {},
   "outputs": [],
   "source": [
    "random_rec_result = RandomRec(train, 10)"
   ]
  },
  {
   "cell_type": "code",
   "execution_count": 17,
   "metadata": {},
   "outputs": [
    {
     "name": "stdout",
     "output_type": "stream",
     "text": [
      "precision = 0.005655\n",
      "recall = 0.002054\n",
      "coverage = 0.004885\n",
      "popularity = 0.000555\n"
     ]
    }
   ],
   "source": [
    "rec_summary(random_rec_result)"
   ]
  },
  {
   "cell_type": "code",
   "execution_count": 18,
   "metadata": {},
   "outputs": [],
   "source": [
    "most_popular_result = MostPopularRec(train, 10)"
   ]
  },
  {
   "cell_type": "code",
   "execution_count": 19,
   "metadata": {},
   "outputs": [
    {
     "name": "stdout",
     "output_type": "stream",
     "text": [
      "precision = 0.158491\n",
      "recall = 0.057556\n",
      "coverage = 0.019810\n",
      "popularity = 0.001272\n"
     ]
    }
   ],
   "source": [
    "rec_summary(most_popular_result)"
   ]
  },
  {
   "cell_type": "code",
   "execution_count": 16,
   "metadata": {},
   "outputs": [],
   "source": [
    "usercf_result = UserCFRec(train, 10, 10)"
   ]
  },
  {
   "cell_type": "code",
   "execution_count": 18,
   "metadata": {},
   "outputs": [
    {
     "name": "stdout",
     "output_type": "stream",
     "text": [
      "precision = 0.071542\n",
      "recall = 0.025981\n",
      "coverage = 0.016011\n",
      "popularity = 0.001268\n"
     ]
    }
   ],
   "source": [
    "rec_summary(usercf_result)"
   ]
  },
  {
   "cell_type": "code",
   "execution_count": 24,
   "metadata": {},
   "outputs": [],
   "source": [
    "useriif_rec_result = UserIIFRec(train, 10, 10)"
   ]
  },
  {
   "cell_type": "code",
   "execution_count": 27,
   "metadata": {},
   "outputs": [
    {
     "name": "stdout",
     "output_type": "stream",
     "text": [
      "precision = 0.069303\n",
      "recall = 0.025168\n",
      "coverage = 0.016554\n",
      "popularity = 0.001257\n"
     ]
    }
   ],
   "source": [
    "rec_summary(useriif_rec_result)"
   ]
  },
  {
   "cell_type": "code",
   "execution_count": null,
   "metadata": {},
   "outputs": [],
   "source": []
  }
 ],
 "metadata": {
  "kernelspec": {
   "display_name": "Python 3",
   "language": "python",
   "name": "python3"
  },
  "language_info": {
   "codemirror_mode": {
    "name": "ipython",
    "version": 3
   },
   "file_extension": ".py",
   "mimetype": "text/x-python",
   "name": "python",
   "nbconvert_exporter": "python",
   "pygments_lexer": "ipython3",
   "version": "3.7.3"
  }
 },
 "nbformat": 4,
 "nbformat_minor": 2
}
