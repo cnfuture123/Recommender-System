{
 "cells": [
  {
   "cell_type": "code",
   "execution_count": 2,
   "metadata": {},
   "outputs": [],
   "source": [
    "# 导入包\n",
    "import random\n",
    "import math\n",
    "import time\n",
    "import numpy as np\n",
    "import pandas as pd\n",
    "import warnings\n",
    "import os\n",
    "import sys\n",
    "import operator\n",
    "warnings.filterwarnings('ignore')\n",
    "np.set_printoptions(suppress=True)"
   ]
  },
  {
   "cell_type": "code",
   "execution_count": 3,
   "metadata": {},
   "outputs": [],
   "source": [
    "def read_data(path):\n",
    "    data = []\n",
    "    with open(path,\"r\") as f:\n",
    "        for line in f.readlines():\n",
    "            user,item,tag = line.split(\"\\t\")[:3]\n",
    "            data.append([user, item, tag])\n",
    "        return data"
   ]
  },
  {
   "cell_type": "code",
   "execution_count": 4,
   "metadata": {},
   "outputs": [],
   "source": [
    "def split_data(data, M=5, k=1):\n",
    "    train = []\n",
    "    test = []\n",
    "    random.seed(42)\n",
    "    for line in data:\n",
    "        if random.randint(0, M) == k:\n",
    "            test.append(line)\n",
    "        else:\n",
    "            train.append(line)\n",
    "    return train, test"
   ]
  },
  {
   "cell_type": "code",
   "execution_count": 5,
   "metadata": {},
   "outputs": [],
   "source": [
    "# convert data to dict format\n",
    "def transform_data(data):   \n",
    "    data_dict = {}\n",
    "    for user, item, tag in data:\n",
    "        if user not in data_dict:\n",
    "            data_dict[user] = dict()\n",
    "        data_dict[user][item] = tag \n",
    "    return data_dict        "
   ]
  },
  {
   "cell_type": "code",
   "execution_count": 6,
   "metadata": {},
   "outputs": [],
   "source": [
    "def preprocess_data(path):\n",
    "    raw_data = read_data(filePath)\n",
    "    train_set, test_set = split_data(raw_data)\n",
    "    # train = transform_data(train_set)\n",
    "    # test = transform_data(test_set)\n",
    "    return train_set, test_set"
   ]
  },
  {
   "cell_type": "code",
   "execution_count": 33,
   "metadata": {},
   "outputs": [],
   "source": [
    "def GetRecommendation(result, user):\n",
    "    rank = result[user]\n",
    "    return rank\n",
    "    \n",
    "def Recall(train_user_items, test_user_items, result):\n",
    "    hit = 0\n",
    "    all = 0\n",
    "    for user in train_user_items.keys():\n",
    "        tu = test_user_items.get(user)\n",
    "        if tu is None:\n",
    "            continue\n",
    "        rank = GetRecommendation(result, user)\n",
    "        for item in rank:\n",
    "            if item in tu:\n",
    "                hit += 1\n",
    "        all += len(tu)\n",
    "    return hit / (all * 1.0)\n",
    "    \n",
    "def Precision(train_user_items, test_user_items, result):\n",
    "    hit = 0\n",
    "    all = 0\n",
    "    for user in train_user_items.keys():\n",
    "        tu = test_user_items.get(user)\n",
    "        if tu is None:\n",
    "            continue    \n",
    "        rank = GetRecommendation(result, user)\n",
    "        for item in rank:\n",
    "            if item in tu:\n",
    "                hit += 1\n",
    "        all += len(rank)\n",
    "    return hit / (all * 1.0)\n",
    "    \n",
    "def Coverage(test_user_items, result):\n",
    "    recommend_items = set()\n",
    "    all_items = set()\n",
    "    for user, items in test_user_items.items():\n",
    "        for item in items:\n",
    "            all_items.add(item)\n",
    "        rank = GetRecommendation(result, user)\n",
    "        for item in rank:\n",
    "            recommend_items.add(item)\n",
    "    return len(recommend_items) / (len(all_items) * 1.0)\n",
    "    \n",
    "def Popularity(test_user_items, result):\n",
    "    item_popularity = dict()\n",
    "    for user, items in test_user_items.items():\n",
    "        for item in items:\n",
    "            if item not in item_popularity:\n",
    "                item_popularity[item] = 0\n",
    "            item_popularity[item] += 1\n",
    "\n",
    "    ret = 0\n",
    "    n = 0\n",
    "    for user in test_user_items.keys():\n",
    "        rank = GetRecommendation(result, user)\n",
    "        for item in rank:\n",
    "            if item not in item_popularity:\n",
    "                continue\n",
    "            ret += math.log(1 + item_popularity[item])\n",
    "            n += 1\n",
    "        ret /= n * 1.0\n",
    "    return ret\n",
    "\n",
    "def CosSim(test_item_tags, i, j):\n",
    "    ret = 0\n",
    "    for tag, wib in test_item_tags[i].items():\n",
    "        if tag in test_item_tags[j]:\n",
    "            ret += wib * test_item_tags[j][tag]\n",
    "            \n",
    "    ni = 0\n",
    "    nj = 0\n",
    "    for tag, w in test_item_tags[i].items():\n",
    "        ni += w*w\n",
    "    for tag, w in test_item_tags[j].items():\n",
    "        nj += w*w\n",
    "    \n",
    "    if ret == 0:\n",
    "        return 0\n",
    "    return ret / math.sqrt(ni * nj)\n",
    "\n",
    "def Diversity(test_user_items, test_item_tags, result):\n",
    "    ret = 0\n",
    "    n = 0\n",
    "    div = []\n",
    "    for user in test_user_items.keys():\n",
    "        rank = GetRecommendation(result, user)\n",
    "        for i in rank:\n",
    "            for j in rank:\n",
    "                if i == j:\n",
    "                    continue\n",
    "                ret += CosSim(test_item_tags, i, j)\n",
    "                n += 1\n",
    "        ret = ret / (n * 1.0)\n",
    "        div.append(ret)\n",
    "    return sum(div) / len(div)"
   ]
  },
  {
   "cell_type": "code",
   "execution_count": 24,
   "metadata": {},
   "outputs": [],
   "source": [
    "def rec_summary(result, numFold=5):\n",
    "    precision =0\n",
    "    recall = 0\n",
    "    coverage = 0\n",
    "    popularity = 0 \n",
    "    diversity = 0\n",
    "\n",
    "    for i in range(0, numFold):\n",
    "        precision += Precision(train_user_items, test_user_items, result)\n",
    "        recall += Recall(train_user_items, test_user_items, result)\n",
    "        coverage += Coverage(test_user_items, result)\n",
    "        popularity += Popularity(test_user_items, result)\n",
    "        diversity += Diversity(test_user_items, test_item_tags, result)\n",
    "\n",
    "    precision /= numFold\n",
    "    recall /= numFold\n",
    "    coverage /= numFold\n",
    "    popularity /= numFold\n",
    "    diversity /= numFold\n",
    "\n",
    "    print('precision = %f' %precision)\n",
    "    print('recall = %f' %recall)\n",
    "    print('coverage = %f' %coverage)\n",
    "    print('popularity = %f' %popularity)\n",
    "    print('diversity = %f' %diversity)"
   ]
  },
  {
   "cell_type": "code",
   "execution_count": 9,
   "metadata": {},
   "outputs": [],
   "source": [
    "from collections import defaultdict\n",
    "\n",
    "def InitStat(data):\n",
    "    user_tags = defaultdict(lambda: {})\n",
    "    tag_users = defaultdict(lambda: set())\n",
    "    tag_items = defaultdict(lambda: {})\n",
    "    item_tags = defaultdict(lambda: {})\n",
    "    user_items = defaultdict(lambda: list())\n",
    "    item_users = defaultdict(lambda: list())\n",
    "    for user, item, tag in data:\n",
    "        user_tags[user].setdefault(tag, 0)\n",
    "        user_tags[user][tag] += 1\n",
    "        \n",
    "        tag_users[tag].add(user)       \n",
    "\n",
    "        tag_items[tag].setdefault(item, 0)\n",
    "        tag_items[tag][item] += 1\n",
    "        \n",
    "        item_tags[item].setdefault(tag, 0)\n",
    "        item_tags[item][tag] += 1\n",
    "\n",
    "        user_items[user].append(item)\n",
    "        \n",
    "        item_users[item].append(user)\n",
    "    \n",
    "    return user_tags, tag_users, tag_items, item_tags, user_items, item_users"
   ]
  },
  {
   "cell_type": "code",
   "execution_count": 10,
   "metadata": {},
   "outputs": [],
   "source": [
    "def SimpleTagRec(train, N):\n",
    "    rank = dict()\n",
    "    result = dict()\n",
    "    \n",
    "    for user, item, tag in train:\n",
    "        item_list = []\n",
    "        tagged_items = train_user_items[user]\n",
    "        for tag, wut in train_user_tags[user].items():\n",
    "            for item, wti in train_tag_items[tag].items():\n",
    "                if item in tagged_items:\n",
    "                    continue\n",
    "                if item not in rank:\n",
    "                    rank[item] = wut * wti\n",
    "                else:\n",
    "                    rank[item] += wut * wti\n",
    "        rec_items = list(sorted(rank.items(), key=operator.itemgetter(1), reverse=True)[:N])\n",
    "        for tuple in rec_items:\n",
    "            item_list.append(tuple[0])\n",
    "        result[user] = item_list\n",
    "    return result       \n",
    "    "
   ]
  },
  {
   "cell_type": "code",
   "execution_count": 11,
   "metadata": {},
   "outputs": [],
   "source": [
    "def TagBasedTFIDF(train, N):\n",
    "    rank = dict()\n",
    "    result = dict()\n",
    "    \n",
    "    for user, item, tag in train:\n",
    "        item_list = []\n",
    "        tagged_items = train_user_items[user]\n",
    "        for tag, wut in train_user_tags[user].items():\n",
    "            for item, wti in train_tag_items[tag].items():\n",
    "                if item in tagged_items:\n",
    "                    continue\n",
    "                if item not in rank:\n",
    "                    rank[item] = wut * wti / math.log(len(train_tag_users[tag]) + 1)\n",
    "                else:\n",
    "                    rank[item] += wut * wti / math.log(len(train_tag_users[tag]) + 1)\n",
    "        rec_items = list(sorted(rank.items(), key=operator.itemgetter(1), reverse=True)[:N])\n",
    "        for tuple in rec_items:\n",
    "            item_list.append(tuple[0])\n",
    "        result[user] = item_list\n",
    "    return result          "
   ]
  },
  {
   "cell_type": "code",
   "execution_count": 12,
   "metadata": {},
   "outputs": [],
   "source": [
    "def TagBasedTFIDFPlus(train, N):\n",
    "    rank = dict()\n",
    "    result = dict()\n",
    "    \n",
    "    for user, item, tag in train:\n",
    "        item_list = []\n",
    "        tagged_items = train_user_items[user]\n",
    "        for tag, wut in train_user_tags[user].items():\n",
    "            for item, wti in train_tag_items[tag].items():\n",
    "                if item in tagged_items:\n",
    "                    continue\n",
    "                if item not in rank:\n",
    "                    rank[item] = wut * wti / math.log(len(train_tag_users[tag]) + 1) / math.log(len(train_item_users[item]) + 1)\n",
    "                else:\n",
    "                    rank[item] += wut * wti / math.log(len(train_tag_users[tag]) + 1) / math.log(len(train_item_users[item]) + 1)\n",
    "        rec_items = list(sorted(rank.items(), key=operator.itemgetter(1), reverse=True)[:N])\n",
    "        for tuple in rec_items:\n",
    "            item_list.append(tuple[0])\n",
    "        result[user] = item_list\n",
    "    return result       \n",
    "    "
   ]
  },
  {
   "cell_type": "code",
   "execution_count": 13,
   "metadata": {},
   "outputs": [],
   "source": [
    "filePath = \"./dataset/delicious-2k/user_taggedbookmarks_small.dat\"\n",
    "train, test = preprocess_data(filePath)"
   ]
  },
  {
   "cell_type": "code",
   "execution_count": 14,
   "metadata": {},
   "outputs": [],
   "source": [
    "train_user_tags, train_tag_users, train_tag_items, train_item_tags, train_user_items, train_item_users = InitStat(train)"
   ]
  },
  {
   "cell_type": "code",
   "execution_count": 15,
   "metadata": {},
   "outputs": [],
   "source": [
    "test_user_tags, test_tag_users, test_tag_items, test_item_tags, test_user_items, test_item_users = InitStat(test)"
   ]
  },
  {
   "cell_type": "code",
   "execution_count": 16,
   "metadata": {},
   "outputs": [],
   "source": [
    "simple_tag_result = SimpleTagRec(train, 10)"
   ]
  },
  {
   "cell_type": "code",
   "execution_count": 17,
   "metadata": {},
   "outputs": [],
   "source": [
    "tfidf_result = TagBasedTFIDF(train, 10)"
   ]
  },
  {
   "cell_type": "code",
   "execution_count": 18,
   "metadata": {},
   "outputs": [],
   "source": [
    "tfidfPlus_result = TagBasedTFIDFPlus(train, 10)"
   ]
  },
  {
   "cell_type": "code",
   "execution_count": 34,
   "metadata": {},
   "outputs": [
    {
     "name": "stdout",
     "output_type": "stream",
     "text": [
      "precision = 0.010596\n",
      "recall = 0.002181\n",
      "coverage = 0.011269\n",
      "popularity = 0.010928\n",
      "diversity = 0.000832\n"
     ]
    }
   ],
   "source": [
    "rec_summary(simple_tag_result)"
   ]
  },
  {
   "cell_type": "code",
   "execution_count": 35,
   "metadata": {},
   "outputs": [
    {
     "name": "stdout",
     "output_type": "stream",
     "text": [
      "precision = 0.010596\n",
      "recall = 0.002181\n",
      "coverage = 0.011269\n",
      "popularity = 0.011077\n",
      "diversity = 0.000857\n"
     ]
    }
   ],
   "source": [
    "rec_summary(tfidf_result)"
   ]
  },
  {
   "cell_type": "code",
   "execution_count": 36,
   "metadata": {},
   "outputs": [
    {
     "name": "stdout",
     "output_type": "stream",
     "text": [
      "precision = 0.008609\n",
      "recall = 0.001772\n",
      "coverage = 0.013396\n",
      "popularity = 0.011087\n",
      "diversity = 0.000342\n"
     ]
    }
   ],
   "source": [
    "rec_summary(tfidfPlus_result)"
   ]
  },
  {
   "cell_type": "code",
   "execution_count": null,
   "metadata": {},
   "outputs": [],
   "source": []
  }
 ],
 "metadata": {
  "kernelspec": {
   "display_name": "Python 3",
   "language": "python",
   "name": "python3"
  },
  "language_info": {
   "codemirror_mode": {
    "name": "ipython",
    "version": 3
   },
   "file_extension": ".py",
   "mimetype": "text/x-python",
   "name": "python",
   "nbconvert_exporter": "python",
   "pygments_lexer": "ipython3",
   "version": "3.7.3"
  }
 },
 "nbformat": 4,
 "nbformat_minor": 2
}
